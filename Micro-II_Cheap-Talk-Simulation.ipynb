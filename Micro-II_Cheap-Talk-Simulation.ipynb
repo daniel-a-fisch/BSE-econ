{
 "cells": [
  {
   "cell_type": "markdown",
   "metadata": {},
   "source": [
    "# Simulation Cheap Talk\n",
    "by [Crawford & Sobel](https://www.jstor.org/stable/1913390)."
   ]
  },
  {
   "cell_type": "code",
   "execution_count": 1,
   "metadata": {},
   "outputs": [],
   "source": [
    "# pip install imageio"
   ]
  },
  {
   "cell_type": "code",
   "execution_count": 2,
   "metadata": {},
   "outputs": [],
   "source": [
    "import numpy as np\n",
    "import matplotlib.pyplot as plt\n",
    "from matplotlib.animation import FuncAnimation\n",
    "from IPython.display import HTML"
   ]
  },
  {
   "cell_type": "code",
   "execution_count": 3,
   "metadata": {},
   "outputs": [],
   "source": [
    "# Find the maximum number of partitions of the model for a given bias b\n",
    "def find_j_max(b):\n",
    "    j_max = int(np.floor(1 / (2 * b)))\n",
    "    return j_max\n",
    "\n",
    "# find the size of the \n",
    "def solve_equation(b, i):\n",
    "    x = 1 / (i + 2 * b * i * (i - 1))\n",
    "    return x\n",
    "\n",
    "def update(frame, b_values, lines):\n",
    "    plt.clf()\n",
    "    \n",
    "    b = b_values[frame]\n",
    "    j_max = find_j_max(b)\n",
    "    \n",
    "    # Solve for x for each i\n",
    "    x_values = [solve_equation(b, i) for i in range(1, j_max + 1)]\n",
    "    \n",
    "    # Plot the intervals\n",
    "    plt.plot([0, 1], [0, 0], color='black') \n",
    "    plt.plot([0, 1], [1, 1], color='black')\n",
    "    \n",
    "    # Plot vertical lines for each x\n",
    "    for i, x in enumerate(x_values):\n",
    "        plt.plot([x, x], [0, 1], color='blue') \n",
    "\n",
    "    plt.title(f'Cheap Talk (Crawford & Sobel): Partition for b = {round(b,3)}')\n",
    "    plt.xlabel(r'Unit Interval for messages ($\\theta \\sim \\mathcal{U}[0,1]$)')\n",
    "    plt.ylabel(None)\n",
    "    plt.xlim(0, 1)\n",
    "    plt.ylim(0, 1)\n",
    "    plt.yticks([])\n",
    "    plt.tight_layout()\n",
    "\n",
    "def create_animation(b_values):\n",
    "    j_max = find_j_max(max(b_values))\n",
    "    \n",
    "    fig, ax = plt.subplots(figsize=(8, 4))\n",
    "    \n",
    "    animation = FuncAnimation(fig, update, frames=len(b_values), fargs=(b_values, []),\n",
    "                              repeat=False, interval=1000)\n",
    "    \n",
    "    # Save the animation as a GIF\n",
    "    animation.save('cheap_talk_simulation.gif', writer='pillow', fps=2)\n",
    "\n",
    "    # Display the saved GIF directly in the notebook\n",
    "    display(HTML('<img src=\"cheap_talk_simulation.gif\">'))\n",
    "\n",
    "    plt.close()"
   ]
  },
  {
   "cell_type": "code",
   "execution_count": 4,
   "metadata": {},
   "outputs": [
    {
     "data": {
      "text/html": [
       "<img src=\"cheap_talk_simulation.gif\">"
      ],
      "text/plain": [
       "<IPython.core.display.HTML object>"
      ]
     },
     "metadata": {},
     "output_type": "display_data"
    }
   ],
   "source": [
    "b_values = np.linspace(1/4, 1/100, 50)  # Adjust for which bias the partition should be displayed\n",
    "create_animation(b_values)"
   ]
  }
 ],
 "metadata": {
  "kernelspec": {
   "display_name": "Python 3",
   "language": "python",
   "name": "python3"
  },
  "language_info": {
   "codemirror_mode": {
    "name": "ipython",
    "version": 3
   },
   "file_extension": ".py",
   "mimetype": "text/x-python",
   "name": "python",
   "nbconvert_exporter": "python",
   "pygments_lexer": "ipython3",
   "version": "3.10.11"
  }
 },
 "nbformat": 4,
 "nbformat_minor": 2
}
